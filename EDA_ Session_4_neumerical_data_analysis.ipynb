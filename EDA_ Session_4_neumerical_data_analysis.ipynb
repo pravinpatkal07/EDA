{
 "cells": [
  {
   "cell_type": "markdown",
   "id": "73bed79e-68d9-483e-b9b2-f2e9f301e871",
   "metadata": {},
   "source": [
    "**Import packages**"
   ]
  },
  {
   "cell_type": "code",
   "execution_count": 1,
   "id": "29db268f-dc25-4589-af47-7868e96bc431",
   "metadata": {},
   "outputs": [],
   "source": [
    "import pandas as pd\n",
    "import numpy as np\n",
    "import matplotlib.pyplot as plt\n",
    "import seaborn as sn"
   ]
  },
  {
   "cell_type": "markdown",
   "id": "5e7b09cb-4610-4fe5-811b-b8d4ea3b82eb",
   "metadata": {},
   "source": [
    "**read the data**"
   ]
  },
  {
   "cell_type": "code",
   "execution_count": 2,
   "id": "10edeec1-e6bd-4280-a706-67f56a78af0d",
   "metadata": {},
   "outputs": [
    {
     "data": {
      "text/html": [
       "<div>\n",
       "<style scoped>\n",
       "    .dataframe tbody tr th:only-of-type {\n",
       "        vertical-align: middle;\n",
       "    }\n",
       "\n",
       "    .dataframe tbody tr th {\n",
       "        vertical-align: top;\n",
       "    }\n",
       "\n",
       "    .dataframe thead th {\n",
       "        text-align: right;\n",
       "    }\n",
       "</style>\n",
       "<table border=\"1\" class=\"dataframe\">\n",
       "  <thead>\n",
       "    <tr style=\"text-align: right;\">\n",
       "      <th></th>\n",
       "      <th>case_id</th>\n",
       "      <th>continent</th>\n",
       "      <th>education_of_employee</th>\n",
       "      <th>has_job_experience</th>\n",
       "      <th>requires_job_training</th>\n",
       "      <th>no_of_employees</th>\n",
       "      <th>yr_of_estab</th>\n",
       "      <th>region_of_employment</th>\n",
       "      <th>prevailing_wage</th>\n",
       "      <th>unit_of_wage</th>\n",
       "      <th>full_time_position</th>\n",
       "      <th>case_status</th>\n",
       "    </tr>\n",
       "  </thead>\n",
       "  <tbody>\n",
       "    <tr>\n",
       "      <th>0</th>\n",
       "      <td>EZYV01</td>\n",
       "      <td>Asia</td>\n",
       "      <td>High School</td>\n",
       "      <td>N</td>\n",
       "      <td>N</td>\n",
       "      <td>14513</td>\n",
       "      <td>2007</td>\n",
       "      <td>West</td>\n",
       "      <td>592.2029</td>\n",
       "      <td>Hour</td>\n",
       "      <td>Y</td>\n",
       "      <td>Denied</td>\n",
       "    </tr>\n",
       "    <tr>\n",
       "      <th>1</th>\n",
       "      <td>EZYV02</td>\n",
       "      <td>Asia</td>\n",
       "      <td>Master's</td>\n",
       "      <td>Y</td>\n",
       "      <td>N</td>\n",
       "      <td>2412</td>\n",
       "      <td>2002</td>\n",
       "      <td>Northeast</td>\n",
       "      <td>83425.6500</td>\n",
       "      <td>Year</td>\n",
       "      <td>Y</td>\n",
       "      <td>Certified</td>\n",
       "    </tr>\n",
       "    <tr>\n",
       "      <th>2</th>\n",
       "      <td>EZYV03</td>\n",
       "      <td>Asia</td>\n",
       "      <td>Bachelor's</td>\n",
       "      <td>N</td>\n",
       "      <td>Y</td>\n",
       "      <td>44444</td>\n",
       "      <td>2008</td>\n",
       "      <td>West</td>\n",
       "      <td>122996.8600</td>\n",
       "      <td>Year</td>\n",
       "      <td>Y</td>\n",
       "      <td>Denied</td>\n",
       "    </tr>\n",
       "    <tr>\n",
       "      <th>3</th>\n",
       "      <td>EZYV04</td>\n",
       "      <td>Asia</td>\n",
       "      <td>Bachelor's</td>\n",
       "      <td>N</td>\n",
       "      <td>N</td>\n",
       "      <td>98</td>\n",
       "      <td>1897</td>\n",
       "      <td>West</td>\n",
       "      <td>83434.0300</td>\n",
       "      <td>Year</td>\n",
       "      <td>Y</td>\n",
       "      <td>Denied</td>\n",
       "    </tr>\n",
       "    <tr>\n",
       "      <th>4</th>\n",
       "      <td>EZYV05</td>\n",
       "      <td>Africa</td>\n",
       "      <td>Master's</td>\n",
       "      <td>Y</td>\n",
       "      <td>N</td>\n",
       "      <td>1082</td>\n",
       "      <td>2005</td>\n",
       "      <td>South</td>\n",
       "      <td>149907.3900</td>\n",
       "      <td>Year</td>\n",
       "      <td>Y</td>\n",
       "      <td>Certified</td>\n",
       "    </tr>\n",
       "    <tr>\n",
       "      <th>...</th>\n",
       "      <td>...</td>\n",
       "      <td>...</td>\n",
       "      <td>...</td>\n",
       "      <td>...</td>\n",
       "      <td>...</td>\n",
       "      <td>...</td>\n",
       "      <td>...</td>\n",
       "      <td>...</td>\n",
       "      <td>...</td>\n",
       "      <td>...</td>\n",
       "      <td>...</td>\n",
       "      <td>...</td>\n",
       "    </tr>\n",
       "    <tr>\n",
       "      <th>18914</th>\n",
       "      <td>EZYV18915</td>\n",
       "      <td>Europe</td>\n",
       "      <td>Master's</td>\n",
       "      <td>Y</td>\n",
       "      <td>N</td>\n",
       "      <td>4754</td>\n",
       "      <td>1996</td>\n",
       "      <td>West</td>\n",
       "      <td>40771.6800</td>\n",
       "      <td>Year</td>\n",
       "      <td>Y</td>\n",
       "      <td>Certified</td>\n",
       "    </tr>\n",
       "    <tr>\n",
       "      <th>18915</th>\n",
       "      <td>EZYV18916</td>\n",
       "      <td>Asia</td>\n",
       "      <td>Bachelor's</td>\n",
       "      <td>Y</td>\n",
       "      <td>N</td>\n",
       "      <td>4189</td>\n",
       "      <td>1998</td>\n",
       "      <td>Northeast</td>\n",
       "      <td>38689.8300</td>\n",
       "      <td>Year</td>\n",
       "      <td>Y</td>\n",
       "      <td>Certified</td>\n",
       "    </tr>\n",
       "    <tr>\n",
       "      <th>18916</th>\n",
       "      <td>EZYV18917</td>\n",
       "      <td>North America</td>\n",
       "      <td>Master's</td>\n",
       "      <td>N</td>\n",
       "      <td>N</td>\n",
       "      <td>5838</td>\n",
       "      <td>1990</td>\n",
       "      <td>South</td>\n",
       "      <td>43121.8300</td>\n",
       "      <td>Year</td>\n",
       "      <td>N</td>\n",
       "      <td>Certified</td>\n",
       "    </tr>\n",
       "    <tr>\n",
       "      <th>18917</th>\n",
       "      <td>EZYV18918</td>\n",
       "      <td>North America</td>\n",
       "      <td>Bachelor's</td>\n",
       "      <td>N</td>\n",
       "      <td>N</td>\n",
       "      <td>300</td>\n",
       "      <td>2009</td>\n",
       "      <td>South</td>\n",
       "      <td>49851.7200</td>\n",
       "      <td>Year</td>\n",
       "      <td>Y</td>\n",
       "      <td>Certified</td>\n",
       "    </tr>\n",
       "    <tr>\n",
       "      <th>18918</th>\n",
       "      <td>EZYV18919</td>\n",
       "      <td>Asia</td>\n",
       "      <td>Bachelor's</td>\n",
       "      <td>Y</td>\n",
       "      <td>N</td>\n",
       "      <td>1334</td>\n",
       "      <td>1898</td>\n",
       "      <td>Northeast</td>\n",
       "      <td>34442.9600</td>\n",
       "      <td>Year</td>\n",
       "      <td>Y</td>\n",
       "      <td>Certified</td>\n",
       "    </tr>\n",
       "  </tbody>\n",
       "</table>\n",
       "<p>18919 rows × 12 columns</p>\n",
       "</div>"
      ],
      "text/plain": [
       "         case_id      continent education_of_employee has_job_experience  \\\n",
       "0         EZYV01           Asia           High School                  N   \n",
       "1         EZYV02           Asia              Master's                  Y   \n",
       "2         EZYV03           Asia            Bachelor's                  N   \n",
       "3         EZYV04           Asia            Bachelor's                  N   \n",
       "4         EZYV05         Africa              Master's                  Y   \n",
       "...          ...            ...                   ...                ...   \n",
       "18914  EZYV18915         Europe              Master's                  Y   \n",
       "18915  EZYV18916           Asia            Bachelor's                  Y   \n",
       "18916  EZYV18917  North America              Master's                  N   \n",
       "18917  EZYV18918  North America            Bachelor's                  N   \n",
       "18918  EZYV18919           Asia            Bachelor's                  Y   \n",
       "\n",
       "      requires_job_training  no_of_employees  yr_of_estab  \\\n",
       "0                         N            14513         2007   \n",
       "1                         N             2412         2002   \n",
       "2                         Y            44444         2008   \n",
       "3                         N               98         1897   \n",
       "4                         N             1082         2005   \n",
       "...                     ...              ...          ...   \n",
       "18914                     N             4754         1996   \n",
       "18915                     N             4189         1998   \n",
       "18916                     N             5838         1990   \n",
       "18917                     N              300         2009   \n",
       "18918                     N             1334         1898   \n",
       "\n",
       "      region_of_employment  prevailing_wage unit_of_wage full_time_position  \\\n",
       "0                     West         592.2029         Hour                  Y   \n",
       "1                Northeast       83425.6500         Year                  Y   \n",
       "2                     West      122996.8600         Year                  Y   \n",
       "3                     West       83434.0300         Year                  Y   \n",
       "4                    South      149907.3900         Year                  Y   \n",
       "...                    ...              ...          ...                ...   \n",
       "18914                 West       40771.6800         Year                  Y   \n",
       "18915            Northeast       38689.8300         Year                  Y   \n",
       "18916                South       43121.8300         Year                  N   \n",
       "18917                South       49851.7200         Year                  Y   \n",
       "18918            Northeast       34442.9600         Year                  Y   \n",
       "\n",
       "      case_status  \n",
       "0          Denied  \n",
       "1       Certified  \n",
       "2          Denied  \n",
       "3          Denied  \n",
       "4       Certified  \n",
       "...           ...  \n",
       "18914   Certified  \n",
       "18915   Certified  \n",
       "18916   Certified  \n",
       "18917   Certified  \n",
       "18918   Certified  \n",
       "\n",
       "[18919 rows x 12 columns]"
      ]
     },
     "execution_count": 2,
     "metadata": {},
     "output_type": "execute_result"
    }
   ],
   "source": [
    "path=r'C:\\Users\\pravi\\Documents\\Naresh-IT\\Datasets\\Visadataset.csv'\n",
    "df=pd.read_csv(path)\n",
    "df"
   ]
  },
  {
   "cell_type": "code",
   "execution_count": 3,
   "id": "9e706ab2-fa6c-46a7-b999-136f82484b4b",
   "metadata": {},
   "outputs": [],
   "source": [
    "types=dict(df.dtypes)\n",
    "cat_columns=[keys for keys,value in types.items() if value=='object' ]\n",
    "neu_columns=[keys for keys,value in types.items() if value!='object' ]\n"
   ]
  },
  {
   "cell_type": "code",
   "execution_count": 4,
   "id": "8c96aff2-fda3-4ffc-a297-b3afb2094cac",
   "metadata": {},
   "outputs": [
    {
     "data": {
      "text/plain": [
       "['case_id',\n",
       " 'continent',\n",
       " 'education_of_employee',\n",
       " 'has_job_experience',\n",
       " 'requires_job_training',\n",
       " 'region_of_employment',\n",
       " 'unit_of_wage',\n",
       " 'full_time_position',\n",
       " 'case_status']"
      ]
     },
     "execution_count": 4,
     "metadata": {},
     "output_type": "execute_result"
    }
   ],
   "source": [
    "cat_columns"
   ]
  },
  {
   "cell_type": "code",
   "execution_count": 5,
   "id": "122e822f-b81f-4d3d-9a18-81fcdc0f28e1",
   "metadata": {},
   "outputs": [
    {
     "data": {
      "text/plain": [
       "['no_of_employees', 'yr_of_estab', 'prevailing_wage']"
      ]
     },
     "execution_count": 5,
     "metadata": {},
     "output_type": "execute_result"
    }
   ],
   "source": [
    "neu_columns"
   ]
  },
  {
   "cell_type": "markdown",
   "id": "1709e8e9-9aa3-428f-8086-eaf75b2ebb5e",
   "metadata": {},
   "source": [
    "**prevailing_wage**"
   ]
  },
  {
   "cell_type": "code",
   "execution_count": 6,
   "id": "1f38660c-fb05-4450-a860-9ab1e95837fd",
   "metadata": {},
   "outputs": [
    {
     "data": {
      "text/html": [
       "<div>\n",
       "<style scoped>\n",
       "    .dataframe tbody tr th:only-of-type {\n",
       "        vertical-align: middle;\n",
       "    }\n",
       "\n",
       "    .dataframe tbody tr th {\n",
       "        vertical-align: top;\n",
       "    }\n",
       "\n",
       "    .dataframe thead th {\n",
       "        text-align: right;\n",
       "    }\n",
       "</style>\n",
       "<table border=\"1\" class=\"dataframe\">\n",
       "  <thead>\n",
       "    <tr style=\"text-align: right;\">\n",
       "      <th></th>\n",
       "      <th>prevailing_wage</th>\n",
       "    </tr>\n",
       "  </thead>\n",
       "  <tbody>\n",
       "    <tr>\n",
       "      <th>0</th>\n",
       "      <td>592.2029</td>\n",
       "    </tr>\n",
       "    <tr>\n",
       "      <th>1</th>\n",
       "      <td>83425.6500</td>\n",
       "    </tr>\n",
       "    <tr>\n",
       "      <th>2</th>\n",
       "      <td>122996.8600</td>\n",
       "    </tr>\n",
       "    <tr>\n",
       "      <th>3</th>\n",
       "      <td>83434.0300</td>\n",
       "    </tr>\n",
       "    <tr>\n",
       "      <th>4</th>\n",
       "      <td>149907.3900</td>\n",
       "    </tr>\n",
       "    <tr>\n",
       "      <th>...</th>\n",
       "      <td>...</td>\n",
       "    </tr>\n",
       "    <tr>\n",
       "      <th>18914</th>\n",
       "      <td>40771.6800</td>\n",
       "    </tr>\n",
       "    <tr>\n",
       "      <th>18915</th>\n",
       "      <td>38689.8300</td>\n",
       "    </tr>\n",
       "    <tr>\n",
       "      <th>18916</th>\n",
       "      <td>43121.8300</td>\n",
       "    </tr>\n",
       "    <tr>\n",
       "      <th>18917</th>\n",
       "      <td>49851.7200</td>\n",
       "    </tr>\n",
       "    <tr>\n",
       "      <th>18918</th>\n",
       "      <td>34442.9600</td>\n",
       "    </tr>\n",
       "  </tbody>\n",
       "</table>\n",
       "<p>18919 rows × 1 columns</p>\n",
       "</div>"
      ],
      "text/plain": [
       "       prevailing_wage\n",
       "0             592.2029\n",
       "1           83425.6500\n",
       "2          122996.8600\n",
       "3           83434.0300\n",
       "4          149907.3900\n",
       "...                ...\n",
       "18914       40771.6800\n",
       "18915       38689.8300\n",
       "18916       43121.8300\n",
       "18917       49851.7200\n",
       "18918       34442.9600\n",
       "\n",
       "[18919 rows x 1 columns]"
      ]
     },
     "execution_count": 6,
     "metadata": {},
     "output_type": "execute_result"
    }
   ],
   "source": [
    "df.loc[:,'prevailing_wage']\n",
    "df.iloc[:,[8]]\n",
    "df['prevailing_wage']\n",
    "df[['prevailing_wage']]"
   ]
  },
  {
   "cell_type": "markdown",
   "id": "091a7500-3676-4717-8cb3-59fb2c749180",
   "metadata": {},
   "source": [
    "- len\n",
    "- min\n",
    "- max\n",
    "- average(mean)\n",
    "- standard deviation std\n",
    "- median\n",
    "- 25p\n",
    "- 50p\n",
    "- 75p "
   ]
  },
  {
   "cell_type": "code",
   "execution_count": null,
   "id": "0c33e7e7-05aa-4879-b873-1fe56ac78c17",
   "metadata": {},
   "outputs": [],
   "source": []
  },
  {
   "cell_type": "markdown",
   "id": "98d8ff09-9158-4063-9ce3-7b40f872534d",
   "metadata": {},
   "source": [
    "**length**"
   ]
  },
  {
   "cell_type": "code",
   "execution_count": 7,
   "id": "3a2316a5-abfa-489a-845b-4681bddc6162",
   "metadata": {},
   "outputs": [
    {
     "data": {
      "text/plain": [
       "18919"
      ]
     },
     "execution_count": 7,
     "metadata": {},
     "output_type": "execute_result"
    }
   ],
   "source": [
    "len(df['prevailing_wage'])"
   ]
  },
  {
   "cell_type": "code",
   "execution_count": 8,
   "id": "0b48f33e-b904-4ad6-a167-0d241bd5c903",
   "metadata": {},
   "outputs": [
    {
     "data": {
      "text/plain": [
       "18919"
      ]
     },
     "execution_count": 8,
     "metadata": {},
     "output_type": "execute_result"
    }
   ],
   "source": [
    "len(df[['prevailing_wage']])"
   ]
  },
  {
   "cell_type": "code",
   "execution_count": 9,
   "id": "1191df51-5dc1-433e-b3ec-e6fa67fc04f9",
   "metadata": {},
   "outputs": [
    {
     "data": {
      "text/html": [
       "<div>\n",
       "<style scoped>\n",
       "    .dataframe tbody tr th:only-of-type {\n",
       "        vertical-align: middle;\n",
       "    }\n",
       "\n",
       "    .dataframe tbody tr th {\n",
       "        vertical-align: top;\n",
       "    }\n",
       "\n",
       "    .dataframe thead th {\n",
       "        text-align: right;\n",
       "    }\n",
       "</style>\n",
       "<table border=\"1\" class=\"dataframe\">\n",
       "  <thead>\n",
       "    <tr style=\"text-align: right;\">\n",
       "      <th></th>\n",
       "      <th>education_of_employee</th>\n",
       "      <th>has_job_experience</th>\n",
       "      <th>requires_job_training</th>\n",
       "    </tr>\n",
       "  </thead>\n",
       "  <tbody>\n",
       "    <tr>\n",
       "      <th>3</th>\n",
       "      <td>Bachelor's</td>\n",
       "      <td>N</td>\n",
       "      <td>N</td>\n",
       "    </tr>\n",
       "    <tr>\n",
       "      <th>4</th>\n",
       "      <td>Master's</td>\n",
       "      <td>Y</td>\n",
       "      <td>N</td>\n",
       "    </tr>\n",
       "    <tr>\n",
       "      <th>5</th>\n",
       "      <td>Master's</td>\n",
       "      <td>Y</td>\n",
       "      <td>N</td>\n",
       "    </tr>\n",
       "    <tr>\n",
       "      <th>6</th>\n",
       "      <td>Bachelor's</td>\n",
       "      <td>N</td>\n",
       "      <td>N</td>\n",
       "    </tr>\n",
       "  </tbody>\n",
       "</table>\n",
       "</div>"
      ],
      "text/plain": [
       "  education_of_employee has_job_experience requires_job_training\n",
       "3            Bachelor's                  N                     N\n",
       "4              Master's                  Y                     N\n",
       "5              Master's                  Y                     N\n",
       "6            Bachelor's                  N                     N"
      ]
     },
     "execution_count": 9,
     "metadata": {},
     "output_type": "execute_result"
    }
   ],
   "source": [
    "#df.iloc[rows,columns]\n",
    "#start:stop:step\n",
    "df.iloc[3:7,2:5]"
   ]
  },
  {
   "cell_type": "code",
   "execution_count": 10,
   "id": "9568838d-db53-430e-884f-5ca641a10779",
   "metadata": {},
   "outputs": [
    {
     "data": {
      "text/plain": [
       "3.0031"
      ]
     },
     "execution_count": 10,
     "metadata": {},
     "output_type": "execute_result"
    }
   ],
   "source": [
    "min(df['prevailing_wage'])"
   ]
  },
  {
   "cell_type": "code",
   "execution_count": 11,
   "id": "c779d5f7-7b19-4ba7-bc55-462b9851efdb",
   "metadata": {},
   "outputs": [
    {
     "data": {
      "text/plain": [
       "318446.05"
      ]
     },
     "execution_count": 11,
     "metadata": {},
     "output_type": "execute_result"
    }
   ],
   "source": [
    "max(df['prevailing_wage'])"
   ]
  },
  {
   "cell_type": "code",
   "execution_count": 12,
   "id": "b1e00c8a-72a0-4ee7-9a23-ea73e4c40dda",
   "metadata": {},
   "outputs": [
    {
     "data": {
      "text/plain": [
       "<bound method Series.mean of 0           592.2029\n",
       "1         83425.6500\n",
       "2        122996.8600\n",
       "3         83434.0300\n",
       "4        149907.3900\n",
       "            ...     \n",
       "18914     40771.6800\n",
       "18915     38689.8300\n",
       "18916     43121.8300\n",
       "18917     49851.7200\n",
       "18918     34442.9600\n",
       "Name: prevailing_wage, Length: 18919, dtype: float64>"
      ]
     },
     "execution_count": 12,
     "metadata": {},
     "output_type": "execute_result"
    }
   ],
   "source": [
    "(df['prevailing_wage'].mean)"
   ]
  },
  {
   "cell_type": "code",
   "execution_count": 13,
   "id": "01d5754b-025d-4c3c-b56e-41fad3b7802c",
   "metadata": {},
   "outputs": [
    {
     "name": "stdout",
     "output_type": "stream",
     "text": [
      "the number of wage ample are: 18919\n",
      "the minimum of wage is : 3.0031\n",
      "the maximimum of wage is: 318446.05\n"
     ]
    }
   ],
   "source": [
    "count=len(df['prevailing_wage'])\n",
    "min_wage=min(df['prevailing_wage'])\n",
    "max_wage=max(df['prevailing_wage'])\n",
    "print(\"the number of wage ample are:\",count)\n",
    "print(\"the minimum of wage is :\",min_wage)\n",
    "print(\"the maximimum of wage is:\",max_wage)"
   ]
  },
  {
   "cell_type": "markdown",
   "id": "58722318-68ae-44a4-a1eb-630510bbb5dc",
   "metadata": {},
   "source": [
    "**mean**"
   ]
  },
  {
   "cell_type": "code",
   "execution_count": 14,
   "id": "9a93c0e9-1d0c-4ee7-b124-9f519a6eb195",
   "metadata": {},
   "outputs": [
    {
     "data": {
      "text/plain": [
       "74626.52"
      ]
     },
     "execution_count": 14,
     "metadata": {},
     "output_type": "execute_result"
    }
   ],
   "source": [
    "mean=round(df[\"prevailing_wage\"].mean(),2)\n",
    "mean"
   ]
  },
  {
   "cell_type": "code",
   "execution_count": 15,
   "id": "c68a0cea-492e-4012-b701-dc0a277b8c00",
   "metadata": {},
   "outputs": [
    {
     "data": {
      "text/plain": [
       "70506.16"
      ]
     },
     "execution_count": 15,
     "metadata": {},
     "output_type": "execute_result"
    }
   ],
   "source": [
    "median=round(df[\"prevailing_wage\"].median(),2)\n",
    "median"
   ]
  },
  {
   "cell_type": "code",
   "execution_count": 16,
   "id": "547bd1c2-62ce-4a78-b471-a77d3c4c8634",
   "metadata": {},
   "outputs": [
    {
     "data": {
      "text/plain": [
       "53019.97"
      ]
     },
     "execution_count": 16,
     "metadata": {},
     "output_type": "execute_result"
    }
   ],
   "source": [
    "standard=round(df[\"prevailing_wage\"].std(),2)\n",
    "standard"
   ]
  },
  {
   "cell_type": "code",
   "execution_count": 17,
   "id": "fbf9b2aa-e634-41f4-8eef-139357beae54",
   "metadata": {},
   "outputs": [
    {
     "data": {
      "text/plain": [
       "2811117598.57"
      ]
     },
     "execution_count": 17,
     "metadata": {},
     "output_type": "execute_result"
    }
   ],
   "source": [
    "variance=round(df[\"prevailing_wage\"].var(),2)\n",
    "variance"
   ]
  },
  {
   "cell_type": "markdown",
   "id": "1dd70238-1289-4690-ab60-862587b53bed",
   "metadata": {},
   "source": [
    "- mode is not suitable metric for neumerical analysis\n",
    "- Different observation canm have same values"
   ]
  },
  {
   "cell_type": "markdown",
   "id": "11ed5b65-b6df-477b-830a-080fe8cc50fe",
   "metadata": {},
   "source": [
    "**using numpy**"
   ]
  },
  {
   "cell_type": "code",
   "execution_count": 18,
   "id": "ee808f7b-f2d5-45ac-941c-ffce2f40aba4",
   "metadata": {},
   "outputs": [
    {
     "data": {
      "text/plain": [
       "74626.52228258364"
      ]
     },
     "execution_count": 18,
     "metadata": {},
     "output_type": "execute_result"
    }
   ],
   "source": [
    "np.mean(df['prevailing_wage'])"
   ]
  },
  {
   "cell_type": "code",
   "execution_count": 19,
   "id": "15649228-154b-434b-a67e-10f01c481918",
   "metadata": {},
   "outputs": [
    {
     "data": {
      "text/plain": [
       "70506.16"
      ]
     },
     "execution_count": 19,
     "metadata": {},
     "output_type": "execute_result"
    }
   ],
   "source": [
    "np.median(df['prevailing_wage'])"
   ]
  },
  {
   "cell_type": "code",
   "execution_count": 20,
   "id": "1d40e0b2-8d52-4369-9a54-82ba56c26116",
   "metadata": {},
   "outputs": [
    {
     "name": "stdout",
     "output_type": "stream",
     "text": [
      "the number of wage ample are: 18919\n"
     ]
    }
   ],
   "source": [
    "count=len(df['prevailing_wage'])\n",
    "min_wage=min(df['prevailing_wage'])\n",
    "max_wage=max(df['prevailing_wage'])\n",
    "print(\"the number of wage ample are:\",count)\n",
    "mean=round(df[\"prevailing_wage\"].mean(),2)\n",
    "median=round(df[\"prevailing_wage\"].median(),2)\n",
    "variance=round(df[\"prevailing_wage\"].var(),2)\n",
    "standard=round(df[\"prevailing_wage\"].std(),2)\n",
    "\n"
   ]
  },
  {
   "cell_type": "code",
   "execution_count": 21,
   "id": "961dc38e-fafd-45d4-9830-41fe9e4697bf",
   "metadata": {},
   "outputs": [],
   "source": [
    "## step 1: create a empty list ,kep all the values in a lis\n",
    "## step2: craetye a index list=['count','min','max']\n",
    "## step3: craete a cols list=['prevailing_wage']"
   ]
  },
  {
   "cell_type": "markdown",
   "id": "310e4ce6-9bc5-4503-9934-ac797c837110",
   "metadata": {},
   "source": [
    "**create DataFrame**"
   ]
  },
  {
   "cell_type": "code",
   "execution_count": 22,
   "id": "a01d930b-1a3e-48bc-8f51-6ae597093edf",
   "metadata": {},
   "outputs": [
    {
     "data": {
      "text/html": [
       "<div>\n",
       "<style scoped>\n",
       "    .dataframe tbody tr th:only-of-type {\n",
       "        vertical-align: middle;\n",
       "    }\n",
       "\n",
       "    .dataframe tbody tr th {\n",
       "        vertical-align: top;\n",
       "    }\n",
       "\n",
       "    .dataframe thead th {\n",
       "        text-align: right;\n",
       "    }\n",
       "</style>\n",
       "<table border=\"1\" class=\"dataframe\">\n",
       "  <thead>\n",
       "    <tr style=\"text-align: right;\">\n",
       "      <th></th>\n",
       "      <th>prevailing_wage</th>\n",
       "    </tr>\n",
       "  </thead>\n",
       "  <tbody>\n",
       "    <tr>\n",
       "      <th>count</th>\n",
       "      <td>1.891900e+04</td>\n",
       "    </tr>\n",
       "    <tr>\n",
       "      <th>min</th>\n",
       "      <td>3.003100e+00</td>\n",
       "    </tr>\n",
       "    <tr>\n",
       "      <th>max</th>\n",
       "      <td>3.184460e+05</td>\n",
       "    </tr>\n",
       "    <tr>\n",
       "      <th>mean</th>\n",
       "      <td>2.811118e+09</td>\n",
       "    </tr>\n",
       "    <tr>\n",
       "      <th>variance</th>\n",
       "      <td>5.301997e+04</td>\n",
       "    </tr>\n",
       "    <tr>\n",
       "      <th>standard_deviation</th>\n",
       "      <td>7.462652e+04</td>\n",
       "    </tr>\n",
       "    <tr>\n",
       "      <th>median</th>\n",
       "      <td>7.050616e+04</td>\n",
       "    </tr>\n",
       "  </tbody>\n",
       "</table>\n",
       "</div>"
      ],
      "text/plain": [
       "                    prevailing_wage\n",
       "count                  1.891900e+04\n",
       "min                    3.003100e+00\n",
       "max                    3.184460e+05\n",
       "mean                   2.811118e+09\n",
       "variance               5.301997e+04\n",
       "standard_deviation     7.462652e+04\n",
       "median                 7.050616e+04"
      ]
     },
     "execution_count": 22,
     "metadata": {},
     "output_type": "execute_result"
    }
   ],
   "source": [
    "index_list=['count','min','max','mean','variance','standard_deviation','median']\n",
    "col_list=['prevailing_wage']\n",
    "value=[count,min_wage,max_wage,variance,standard,mean,median]\n",
    "pd.DataFrame(value,index=index_list,columns=col_list)\n"
   ]
  },
  {
   "cell_type": "markdown",
   "id": "a451ec46-0cbc-4e0f-b0b1-54b81cb5fb21",
   "metadata": {},
   "source": [
    "**25-50p-75p**"
   ]
  },
  {
   "cell_type": "markdown",
   "id": "c95bf1b6-03f0-4e51-8a6e-def94050f762",
   "metadata": {},
   "source": [
    "**percentile**\n",
    "\n",
    "\n",
    "- in numpy we have percentile\n",
    "\n",
    "-  The method is np.percentile()\n",
    "\n",
    "    - It takes the two argument\n",
    "\n",
    "    - a: array means data\n",
    "\n",
    "    - q value which percentile data we want,that value we need to provide\n",
    "\n",
    "    - if we want 25p value then q=25\n",
    "\n",
    "**quantile**\n",
    "\n",
    "- In numpy we have qunatile method \n",
    "\n",
    " - the method is np.quantile\n",
    "\n",
    "\n",
    "- It takes the two argument\n",
    "\n",
    "    - a: array means data\n",
    "\n",
    "    - q value which percentile data we want,that value we need to provide\n",
    "\n",
    "    - if we want 25p value then q=0.25\n",
    "\n",
    "    - if we want 50p valiue then q=0.50\n",
    "\n"
   ]
  },
  {
   "cell_type": "code",
   "execution_count": 23,
   "id": "e04975eb-1a07-4b29-ac9d-87b5ad444b9e",
   "metadata": {},
   "outputs": [
    {
     "data": {
      "text/plain": [
       "33958.78999999999"
      ]
     },
     "execution_count": 23,
     "metadata": {},
     "output_type": "execute_result"
    }
   ],
   "source": [
    "np.percentile(df['prevailing_wage'],25)\n",
    "# 0 t0 100"
   ]
  },
  {
   "cell_type": "code",
   "execution_count": 24,
   "id": "2f464e99-ba9f-4af9-a0fe-4a711daf606e",
   "metadata": {},
   "outputs": [
    {
     "data": {
      "text/plain": [
       "33958.78999999999"
      ]
     },
     "execution_count": 24,
     "metadata": {},
     "output_type": "execute_result"
    }
   ],
   "source": [
    "np.quantile(df['prevailing_wage'],0.25)\n",
    "# 0.1"
   ]
  },
  {
   "cell_type": "code",
   "execution_count": 25,
   "id": "bf4fff39-f933-485e-817f-f156c41b42e8",
   "metadata": {},
   "outputs": [
    {
     "name": "stdout",
     "output_type": "stream",
     "text": [
      "25p value is: 33959\n",
      "50p value is :  70506\n",
      "75p value is : 107857\n"
     ]
    }
   ],
   "source": [
    "\n",
    "wage_25=round(np.percentile(df['prevailing_wage'],25))\n",
    "wage_50=round(np.percentile(df['prevailing_wage'],50))\n",
    "wage_75=round(np.percentile(df['prevailing_wage'],75))\n",
    "print(\"25p value is:\",wage_25)\n",
    "print(\"50p value is : \",wage_50)\n",
    "print(\"75p value is :\",wage_75)"
   ]
  },
  {
   "cell_type": "code",
   "execution_count": 26,
   "id": "a0dce6b7-92f0-4f56-a273-079c211a2957",
   "metadata": {},
   "outputs": [
    {
     "data": {
      "text/html": [
       "<div>\n",
       "<style scoped>\n",
       "    .dataframe tbody tr th:only-of-type {\n",
       "        vertical-align: middle;\n",
       "    }\n",
       "\n",
       "    .dataframe tbody tr th {\n",
       "        vertical-align: top;\n",
       "    }\n",
       "\n",
       "    .dataframe thead th {\n",
       "        text-align: right;\n",
       "    }\n",
       "</style>\n",
       "<table border=\"1\" class=\"dataframe\">\n",
       "  <thead>\n",
       "    <tr style=\"text-align: right;\">\n",
       "      <th></th>\n",
       "      <th>prevailing_wage</th>\n",
       "    </tr>\n",
       "  </thead>\n",
       "  <tbody>\n",
       "    <tr>\n",
       "      <th>count</th>\n",
       "      <td>1.891900e+04</td>\n",
       "    </tr>\n",
       "    <tr>\n",
       "      <th>min_wage</th>\n",
       "      <td>3.003100e+00</td>\n",
       "    </tr>\n",
       "    <tr>\n",
       "      <th>max_wage</th>\n",
       "      <td>3.184460e+05</td>\n",
       "    </tr>\n",
       "    <tr>\n",
       "      <th>mean</th>\n",
       "      <td>2.811118e+09</td>\n",
       "    </tr>\n",
       "    <tr>\n",
       "      <th>variance</th>\n",
       "      <td>5.301997e+04</td>\n",
       "    </tr>\n",
       "    <tr>\n",
       "      <th>standard</th>\n",
       "      <td>7.462652e+04</td>\n",
       "    </tr>\n",
       "    <tr>\n",
       "      <th>median</th>\n",
       "      <td>7.050616e+04</td>\n",
       "    </tr>\n",
       "    <tr>\n",
       "      <th>wage_25</th>\n",
       "      <td>3.395900e+04</td>\n",
       "    </tr>\n",
       "    <tr>\n",
       "      <th>wage_50</th>\n",
       "      <td>7.050600e+04</td>\n",
       "    </tr>\n",
       "    <tr>\n",
       "      <th>wage_75</th>\n",
       "      <td>1.078570e+05</td>\n",
       "    </tr>\n",
       "  </tbody>\n",
       "</table>\n",
       "</div>"
      ],
      "text/plain": [
       "          prevailing_wage\n",
       "count        1.891900e+04\n",
       "min_wage     3.003100e+00\n",
       "max_wage     3.184460e+05\n",
       "mean         2.811118e+09\n",
       "variance     5.301997e+04\n",
       "standard     7.462652e+04\n",
       "median       7.050616e+04\n",
       "wage_25      3.395900e+04\n",
       "wage_50      7.050600e+04\n",
       "wage_75      1.078570e+05"
      ]
     },
     "execution_count": 26,
     "metadata": {},
     "output_type": "execute_result"
    }
   ],
   "source": [
    "index_list1=['count','min_wage','max_wage','mean','variance','standard','median','wage_25','wage_50','wage_75']\n",
    "col_list1=['prevailing_wage']\n",
    "value=[count,min_wage,max_wage,variance,standard,mean,median,wage_25,wage_50,wage_75]\n",
    "pd.DataFrame(value,index=index_list1,columns=col_list1)\n"
   ]
  },
  {
   "cell_type": "code",
   "execution_count": 27,
   "id": "2401a2e8-ae02-4fa7-be4c-74e7066e4c23",
   "metadata": {},
   "outputs": [],
   "source": [
    "data_df=pd.DataFrame()\n",
    "for i in neu_columns:\n",
    "    count=len(df[i])\n",
    "    min_wage=min(df[i])\n",
    "    max_wage=max(df[i])\n",
    "    mean=df[i].mean()\n",
    "    median=df[i].median()\n",
    "    variance=df[i].var()\n",
    "    standard=df[i].std()\n",
    "    wage_25=np.percentile(df[i],25)\n",
    "    wage_50=np.percentile(df[i],50)\n",
    "    wage_75=np.percentile(df[i],75)\n",
    "    index_list1=['count','min_wage','max_wage','mean','variance','standard','median','wage_25','wage_50','wage_75']\n",
    "    value=[count,min_wage,max_wage,mean,variance,standard,median,wage_25,wage_50,wage_75]\n",
    "    col_list=[i]\n",
    "    df1=pd.DataFrame(value,index=index_list1,columns=col_list)\n",
    "    data_df=pd.concat([data_df,df1],axis=1)\n",
    "    "
   ]
  },
  {
   "cell_type": "code",
   "execution_count": 28,
   "id": "36efb158-3da6-4df7-96f8-5c4ffdedcd1c",
   "metadata": {},
   "outputs": [
    {
     "data": {
      "text/html": [
       "<div>\n",
       "<style scoped>\n",
       "    .dataframe tbody tr th:only-of-type {\n",
       "        vertical-align: middle;\n",
       "    }\n",
       "\n",
       "    .dataframe tbody tr th {\n",
       "        vertical-align: top;\n",
       "    }\n",
       "\n",
       "    .dataframe thead th {\n",
       "        text-align: right;\n",
       "    }\n",
       "</style>\n",
       "<table border=\"1\" class=\"dataframe\">\n",
       "  <thead>\n",
       "    <tr style=\"text-align: right;\">\n",
       "      <th></th>\n",
       "      <th>no_of_employees</th>\n",
       "      <th>yr_of_estab</th>\n",
       "      <th>prevailing_wage</th>\n",
       "    </tr>\n",
       "  </thead>\n",
       "  <tbody>\n",
       "    <tr>\n",
       "      <th>count</th>\n",
       "      <td>1.891900e+04</td>\n",
       "      <td>18919.000000</td>\n",
       "      <td>1.891900e+04</td>\n",
       "    </tr>\n",
       "    <tr>\n",
       "      <th>min_wage</th>\n",
       "      <td>-2.600000e+01</td>\n",
       "      <td>1800.000000</td>\n",
       "      <td>3.003100e+00</td>\n",
       "    </tr>\n",
       "    <tr>\n",
       "      <th>max_wage</th>\n",
       "      <td>5.944720e+05</td>\n",
       "      <td>2016.000000</td>\n",
       "      <td>3.184460e+05</td>\n",
       "    </tr>\n",
       "    <tr>\n",
       "      <th>mean</th>\n",
       "      <td>5.584589e+03</td>\n",
       "      <td>1979.300862</td>\n",
       "      <td>7.462652e+04</td>\n",
       "    </tr>\n",
       "    <tr>\n",
       "      <th>variance</th>\n",
       "      <td>5.104915e+08</td>\n",
       "      <td>1810.407839</td>\n",
       "      <td>2.811118e+09</td>\n",
       "    </tr>\n",
       "    <tr>\n",
       "      <th>standard</th>\n",
       "      <td>2.259406e+04</td>\n",
       "      <td>42.548888</td>\n",
       "      <td>5.301997e+04</td>\n",
       "    </tr>\n",
       "    <tr>\n",
       "      <th>median</th>\n",
       "      <td>2.106000e+03</td>\n",
       "      <td>1997.000000</td>\n",
       "      <td>7.050616e+04</td>\n",
       "    </tr>\n",
       "    <tr>\n",
       "      <th>wage_25</th>\n",
       "      <td>1.011000e+03</td>\n",
       "      <td>1976.000000</td>\n",
       "      <td>3.395879e+04</td>\n",
       "    </tr>\n",
       "    <tr>\n",
       "      <th>wage_50</th>\n",
       "      <td>2.106000e+03</td>\n",
       "      <td>1997.000000</td>\n",
       "      <td>7.050616e+04</td>\n",
       "    </tr>\n",
       "    <tr>\n",
       "      <th>wage_75</th>\n",
       "      <td>3.488000e+03</td>\n",
       "      <td>2005.000000</td>\n",
       "      <td>1.078574e+05</td>\n",
       "    </tr>\n",
       "  </tbody>\n",
       "</table>\n",
       "</div>"
      ],
      "text/plain": [
       "          no_of_employees   yr_of_estab  prevailing_wage\n",
       "count        1.891900e+04  18919.000000     1.891900e+04\n",
       "min_wage    -2.600000e+01   1800.000000     3.003100e+00\n",
       "max_wage     5.944720e+05   2016.000000     3.184460e+05\n",
       "mean         5.584589e+03   1979.300862     7.462652e+04\n",
       "variance     5.104915e+08   1810.407839     2.811118e+09\n",
       "standard     2.259406e+04     42.548888     5.301997e+04\n",
       "median       2.106000e+03   1997.000000     7.050616e+04\n",
       "wage_25      1.011000e+03   1976.000000     3.395879e+04\n",
       "wage_50      2.106000e+03   1997.000000     7.050616e+04\n",
       "wage_75      3.488000e+03   2005.000000     1.078574e+05"
      ]
     },
     "execution_count": 28,
     "metadata": {},
     "output_type": "execute_result"
    }
   ],
   "source": [
    "data_df"
   ]
  },
  {
   "cell_type": "markdown",
   "id": "d6099a0f-eb90-4a02-8a9a-8cc72b1e82ab",
   "metadata": {},
   "source": [
    "**Percentile**"
   ]
  },
  {
   "cell_type": "markdown",
   "id": "041e8dc2-30fb-445f-8d4f-f5ccabdf175f",
   "metadata": {},
   "source": [
    "- 25p:\n",
    "\n",
    "   - Assume that 25p value=x\n",
    "\n",
    "   - 25percentage of data less than value:x\n",
    " \n",
    "- For example prevailing_wage 25p value is : 33958.78\n",
    "\n",
    "- 25 percentage of people having salary less than 33958.78\n",
    "\n",
    "   - Total member: 18919\n",
    " \n",
    "   - 25 percentage of 18919=4729.75"
   ]
  },
  {
   "cell_type": "code",
   "execution_count": 29,
   "id": "0f45ecc5-41d8-45a3-934e-cbc2de4a8be3",
   "metadata": {},
   "outputs": [
    {
     "data": {
      "text/plain": [
       "33958.78999999999"
      ]
     },
     "execution_count": 29,
     "metadata": {},
     "output_type": "execute_result"
    }
   ],
   "source": [
    "np.percentile(df['prevailing_wage'],25)"
   ]
  },
  {
   "cell_type": "code",
   "execution_count": 30,
   "id": "d4a606de-2473-4690-bc52-4d624d669732",
   "metadata": {},
   "outputs": [
    {
     "data": {
      "text/plain": [
       "18919"
      ]
     },
     "execution_count": 30,
     "metadata": {},
     "output_type": "execute_result"
    }
   ],
   "source": [
    "df['prevailing_wage'].size"
   ]
  },
  {
   "cell_type": "code",
   "execution_count": 31,
   "id": "9de6b523-27b0-4d19-91d7-87f388f2ef22",
   "metadata": {},
   "outputs": [],
   "source": [
    "# step1 - read the prevprevailing_wage\n",
    "# step2: providing the condition\n",
    "#     prevailing wage<percentile value\n"
   ]
  },
  {
   "cell_type": "code",
   "execution_count": 32,
   "id": "dc5e7ccb-814c-48db-bc67-7e6ecdd9f769",
   "metadata": {},
   "outputs": [
    {
     "data": {
      "text/html": [
       "<div>\n",
       "<style scoped>\n",
       "    .dataframe tbody tr th:only-of-type {\n",
       "        vertical-align: middle;\n",
       "    }\n",
       "\n",
       "    .dataframe tbody tr th {\n",
       "        vertical-align: top;\n",
       "    }\n",
       "\n",
       "    .dataframe thead th {\n",
       "        text-align: right;\n",
       "    }\n",
       "</style>\n",
       "<table border=\"1\" class=\"dataframe\">\n",
       "  <thead>\n",
       "    <tr style=\"text-align: right;\">\n",
       "      <th></th>\n",
       "      <th>case_id</th>\n",
       "      <th>continent</th>\n",
       "      <th>education_of_employee</th>\n",
       "      <th>has_job_experience</th>\n",
       "      <th>requires_job_training</th>\n",
       "      <th>no_of_employees</th>\n",
       "      <th>yr_of_estab</th>\n",
       "      <th>region_of_employment</th>\n",
       "      <th>prevailing_wage</th>\n",
       "      <th>unit_of_wage</th>\n",
       "      <th>full_time_position</th>\n",
       "      <th>case_status</th>\n",
       "    </tr>\n",
       "  </thead>\n",
       "  <tbody>\n",
       "    <tr>\n",
       "      <th>0</th>\n",
       "      <td>EZYV01</td>\n",
       "      <td>Asia</td>\n",
       "      <td>High School</td>\n",
       "      <td>N</td>\n",
       "      <td>N</td>\n",
       "      <td>14513</td>\n",
       "      <td>2007</td>\n",
       "      <td>West</td>\n",
       "      <td>592.2029</td>\n",
       "      <td>Hour</td>\n",
       "      <td>Y</td>\n",
       "      <td>Denied</td>\n",
       "    </tr>\n",
       "    <tr>\n",
       "      <th>7</th>\n",
       "      <td>EZYV08</td>\n",
       "      <td>North America</td>\n",
       "      <td>Bachelor's</td>\n",
       "      <td>Y</td>\n",
       "      <td>N</td>\n",
       "      <td>3035</td>\n",
       "      <td>1924</td>\n",
       "      <td>West</td>\n",
       "      <td>418.2298</td>\n",
       "      <td>Hour</td>\n",
       "      <td>Y</td>\n",
       "      <td>Denied</td>\n",
       "    </tr>\n",
       "    <tr>\n",
       "      <th>12</th>\n",
       "      <td>EZYV13</td>\n",
       "      <td>Asia</td>\n",
       "      <td>Bachelor's</td>\n",
       "      <td>Y</td>\n",
       "      <td>N</td>\n",
       "      <td>123876</td>\n",
       "      <td>1963</td>\n",
       "      <td>Northeast</td>\n",
       "      <td>28663.0500</td>\n",
       "      <td>Year</td>\n",
       "      <td>Y</td>\n",
       "      <td>Certified</td>\n",
       "    </tr>\n",
       "    <tr>\n",
       "      <th>16</th>\n",
       "      <td>EZYV17</td>\n",
       "      <td>Europe</td>\n",
       "      <td>Master's</td>\n",
       "      <td>Y</td>\n",
       "      <td>N</td>\n",
       "      <td>76638</td>\n",
       "      <td>1991</td>\n",
       "      <td>Midwest</td>\n",
       "      <td>3706.7900</td>\n",
       "      <td>Year</td>\n",
       "      <td>Y</td>\n",
       "      <td>Certified</td>\n",
       "    </tr>\n",
       "    <tr>\n",
       "      <th>17</th>\n",
       "      <td>EZYV18</td>\n",
       "      <td>Asia</td>\n",
       "      <td>Master's</td>\n",
       "      <td>Y</td>\n",
       "      <td>N</td>\n",
       "      <td>2747</td>\n",
       "      <td>2001</td>\n",
       "      <td>West</td>\n",
       "      <td>16132.6100</td>\n",
       "      <td>Year</td>\n",
       "      <td>Y</td>\n",
       "      <td>Certified</td>\n",
       "    </tr>\n",
       "    <tr>\n",
       "      <th>...</th>\n",
       "      <td>...</td>\n",
       "      <td>...</td>\n",
       "      <td>...</td>\n",
       "      <td>...</td>\n",
       "      <td>...</td>\n",
       "      <td>...</td>\n",
       "      <td>...</td>\n",
       "      <td>...</td>\n",
       "      <td>...</td>\n",
       "      <td>...</td>\n",
       "      <td>...</td>\n",
       "      <td>...</td>\n",
       "    </tr>\n",
       "    <tr>\n",
       "      <th>18896</th>\n",
       "      <td>EZYV18897</td>\n",
       "      <td>Asia</td>\n",
       "      <td>Master's</td>\n",
       "      <td>Y</td>\n",
       "      <td>N</td>\n",
       "      <td>5302</td>\n",
       "      <td>1997</td>\n",
       "      <td>West</td>\n",
       "      <td>24977.5500</td>\n",
       "      <td>Year</td>\n",
       "      <td>Y</td>\n",
       "      <td>Certified</td>\n",
       "    </tr>\n",
       "    <tr>\n",
       "      <th>18899</th>\n",
       "      <td>EZYV18900</td>\n",
       "      <td>Asia</td>\n",
       "      <td>Bachelor's</td>\n",
       "      <td>Y</td>\n",
       "      <td>N</td>\n",
       "      <td>3366</td>\n",
       "      <td>1971</td>\n",
       "      <td>West</td>\n",
       "      <td>32481.6200</td>\n",
       "      <td>Year</td>\n",
       "      <td>Y</td>\n",
       "      <td>Certified</td>\n",
       "    </tr>\n",
       "    <tr>\n",
       "      <th>18902</th>\n",
       "      <td>EZYV18903</td>\n",
       "      <td>Asia</td>\n",
       "      <td>High School</td>\n",
       "      <td>Y</td>\n",
       "      <td>N</td>\n",
       "      <td>2237</td>\n",
       "      <td>2007</td>\n",
       "      <td>West</td>\n",
       "      <td>2999.9300</td>\n",
       "      <td>Year</td>\n",
       "      <td>Y</td>\n",
       "      <td>Denied</td>\n",
       "    </tr>\n",
       "    <tr>\n",
       "      <th>18904</th>\n",
       "      <td>EZYV18905</td>\n",
       "      <td>North America</td>\n",
       "      <td>Master's</td>\n",
       "      <td>N</td>\n",
       "      <td>N</td>\n",
       "      <td>2188</td>\n",
       "      <td>2005</td>\n",
       "      <td>South</td>\n",
       "      <td>32709.0000</td>\n",
       "      <td>Year</td>\n",
       "      <td>N</td>\n",
       "      <td>Denied</td>\n",
       "    </tr>\n",
       "    <tr>\n",
       "      <th>18911</th>\n",
       "      <td>EZYV18912</td>\n",
       "      <td>Asia</td>\n",
       "      <td>Master's</td>\n",
       "      <td>Y</td>\n",
       "      <td>N</td>\n",
       "      <td>2384</td>\n",
       "      <td>2001</td>\n",
       "      <td>West</td>\n",
       "      <td>14517.6900</td>\n",
       "      <td>Year</td>\n",
       "      <td>Y</td>\n",
       "      <td>Certified</td>\n",
       "    </tr>\n",
       "  </tbody>\n",
       "</table>\n",
       "<p>4730 rows × 12 columns</p>\n",
       "</div>"
      ],
      "text/plain": [
       "         case_id      continent education_of_employee has_job_experience  \\\n",
       "0         EZYV01           Asia           High School                  N   \n",
       "7         EZYV08  North America            Bachelor's                  Y   \n",
       "12        EZYV13           Asia            Bachelor's                  Y   \n",
       "16        EZYV17         Europe              Master's                  Y   \n",
       "17        EZYV18           Asia              Master's                  Y   \n",
       "...          ...            ...                   ...                ...   \n",
       "18896  EZYV18897           Asia              Master's                  Y   \n",
       "18899  EZYV18900           Asia            Bachelor's                  Y   \n",
       "18902  EZYV18903           Asia           High School                  Y   \n",
       "18904  EZYV18905  North America              Master's                  N   \n",
       "18911  EZYV18912           Asia              Master's                  Y   \n",
       "\n",
       "      requires_job_training  no_of_employees  yr_of_estab  \\\n",
       "0                         N            14513         2007   \n",
       "7                         N             3035         1924   \n",
       "12                        N           123876         1963   \n",
       "16                        N            76638         1991   \n",
       "17                        N             2747         2001   \n",
       "...                     ...              ...          ...   \n",
       "18896                     N             5302         1997   \n",
       "18899                     N             3366         1971   \n",
       "18902                     N             2237         2007   \n",
       "18904                     N             2188         2005   \n",
       "18911                     N             2384         2001   \n",
       "\n",
       "      region_of_employment  prevailing_wage unit_of_wage full_time_position  \\\n",
       "0                     West         592.2029         Hour                  Y   \n",
       "7                     West         418.2298         Hour                  Y   \n",
       "12               Northeast       28663.0500         Year                  Y   \n",
       "16                 Midwest        3706.7900         Year                  Y   \n",
       "17                    West       16132.6100         Year                  Y   \n",
       "...                    ...              ...          ...                ...   \n",
       "18896                 West       24977.5500         Year                  Y   \n",
       "18899                 West       32481.6200         Year                  Y   \n",
       "18902                 West        2999.9300         Year                  Y   \n",
       "18904                South       32709.0000         Year                  N   \n",
       "18911                 West       14517.6900         Year                  Y   \n",
       "\n",
       "      case_status  \n",
       "0          Denied  \n",
       "7          Denied  \n",
       "12      Certified  \n",
       "16      Certified  \n",
       "17      Certified  \n",
       "...           ...  \n",
       "18896   Certified  \n",
       "18899   Certified  \n",
       "18902      Denied  \n",
       "18904      Denied  \n",
       "18911   Certified  \n",
       "\n",
       "[4730 rows x 12 columns]"
      ]
     },
     "execution_count": 32,
     "metadata": {},
     "output_type": "execute_result"
    }
   ],
   "source": [
    "wage_data=df['prevailing_wage']\n",
    "p_25=np.percentile(df['prevailing_wage'],25)\n",
    "con=wage_data<p_25\n",
    "df[con]\n"
   ]
  },
  {
   "cell_type": "code",
   "execution_count": 33,
   "id": "1c081779-eca0-4421-81fe-ee1da56ce034",
   "metadata": {},
   "outputs": [
    {
     "data": {
      "text/plain": [
       "4730"
      ]
     },
     "execution_count": 33,
     "metadata": {},
     "output_type": "execute_result"
    }
   ],
   "source": [
    "wage_data=(df['prevailing_wage'])\n",
    "p_25=np.percentile(df['prevailing_wage'],25)\n",
    "con=wage_data<p_25\n",
    "len(df[con])\n"
   ]
  },
  {
   "cell_type": "code",
   "execution_count": 34,
   "id": "7576827c-8d67-4c04-a0b8-a0a1102e73fe",
   "metadata": {},
   "outputs": [
    {
     "data": {
      "text/plain": [
       "9459"
      ]
     },
     "execution_count": 34,
     "metadata": {},
     "output_type": "execute_result"
    }
   ],
   "source": [
    "wage_data=df['prevailing_wage']\n",
    "p_50=np.percentile(df['prevailing_wage'],50)\n",
    "con=wage_data<p_50\n",
    "len(df[con])\n"
   ]
  },
  {
   "cell_type": "code",
   "execution_count": 35,
   "id": "fb7610a0-58ad-4cff-aedf-3921cbbb1ea0",
   "metadata": {},
   "outputs": [
    {
     "data": {
      "text/plain": [
       "14189"
      ]
     },
     "execution_count": 35,
     "metadata": {},
     "output_type": "execute_result"
    }
   ],
   "source": [
    "wage_data=df['prevailing_wage']\n",
    "p_75=np.percentile(df['prevailing_wage'],75)\n",
    "con=wage_data<p_75\n",
    "len(df[con])\n"
   ]
  },
  {
   "cell_type": "markdown",
   "id": "0d179080-c2dd-4810-bdfd-c2ecbff9398a",
   "metadata": {},
   "source": [
    "**Emperical rule**"
   ]
  },
  {
   "cell_type": "code",
   "execution_count": 36,
   "id": "3aff66eb-0a8f-43e6-8ca0-c069e130f4f9",
   "metadata": {},
   "outputs": [],
   "source": [
    "## step1- calculate the mean of prevailage wage\n",
    "## step2- caalculate the std of prevailage wage\n",
    "## step3- lb=mean-1*std\n",
    "## step4- ub=mean+1*std\n",
    "##step5- con1=data<ub\n",
    "## step6- con2=data>lb\n",
    "## step7- con3=con1 and con2\n",
    "##step8- data[con3]\n",
    "##step9- compare with 68% "
   ]
  },
  {
   "cell_type": "code",
   "execution_count": 37,
   "id": "fae0dde3-8f5b-47b3-85bc-732e675981b0",
   "metadata": {},
   "outputs": [
    {
     "data": {
      "text/plain": [
       "74626.52228258364"
      ]
     },
     "execution_count": 37,
     "metadata": {},
     "output_type": "execute_result"
    }
   ],
   "source": [
    "mean_data=df['prevailing_wage'].mean()\n",
    "standard=df['prevailing_wage'].std()\n",
    "mean_data"
   ]
  },
  {
   "cell_type": "code",
   "execution_count": 38,
   "id": "3da29702-426c-4533-8dfd-89948b4f43e9",
   "metadata": {},
   "outputs": [
    {
     "data": {
      "text/plain": [
       "53019.973581417486"
      ]
     },
     "execution_count": 38,
     "metadata": {},
     "output_type": "execute_result"
    }
   ],
   "source": [
    "standard"
   ]
  },
  {
   "cell_type": "code",
   "execution_count": 39,
   "id": "a39080b4-d0a5-4a42-af66-0f70ced8d96e",
   "metadata": {},
   "outputs": [
    {
     "name": "stdout",
     "output_type": "stream",
     "text": [
      "869584\n"
     ]
    }
   ],
   "source": [
    "mean_data=df['prevailing_wage'].mean()\n",
    "standard=df['prevailing_wage'].std()\n",
    "lb=mean_data-1*standard\n",
    "ub=mean_data+1*standard\n",
    "con1=df['prevailing_wage']<ub\n",
    "con2=df['prevailing_wage']>lb\n",
    "con3=con1&con2\n",
    "print(68*len(df[con3]))\n"
   ]
  },
  {
   "cell_type": "code",
   "execution_count": 40,
   "id": "1522453c-0be3-4e23-9b7b-1297339969d2",
   "metadata": {},
   "outputs": [
    {
     "data": {
      "text/html": [
       "<div>\n",
       "<style scoped>\n",
       "    .dataframe tbody tr th:only-of-type {\n",
       "        vertical-align: middle;\n",
       "    }\n",
       "\n",
       "    .dataframe tbody tr th {\n",
       "        vertical-align: top;\n",
       "    }\n",
       "\n",
       "    .dataframe thead th {\n",
       "        text-align: right;\n",
       "    }\n",
       "</style>\n",
       "<table border=\"1\" class=\"dataframe\">\n",
       "  <thead>\n",
       "    <tr style=\"text-align: right;\">\n",
       "      <th></th>\n",
       "      <th>case_id</th>\n",
       "      <th>continent</th>\n",
       "      <th>education_of_employee</th>\n",
       "      <th>has_job_experience</th>\n",
       "      <th>requires_job_training</th>\n",
       "      <th>no_of_employees</th>\n",
       "      <th>yr_of_estab</th>\n",
       "      <th>region_of_employment</th>\n",
       "      <th>prevailing_wage</th>\n",
       "      <th>unit_of_wage</th>\n",
       "      <th>full_time_position</th>\n",
       "      <th>case_status</th>\n",
       "    </tr>\n",
       "  </thead>\n",
       "  <tbody>\n",
       "    <tr>\n",
       "      <th>0</th>\n",
       "      <td>EZYV01</td>\n",
       "      <td>Asia</td>\n",
       "      <td>High School</td>\n",
       "      <td>N</td>\n",
       "      <td>N</td>\n",
       "      <td>14513</td>\n",
       "      <td>2007</td>\n",
       "      <td>West</td>\n",
       "      <td>592.2029</td>\n",
       "      <td>Hour</td>\n",
       "      <td>Y</td>\n",
       "      <td>Denied</td>\n",
       "    </tr>\n",
       "    <tr>\n",
       "      <th>1</th>\n",
       "      <td>EZYV02</td>\n",
       "      <td>Asia</td>\n",
       "      <td>Master's</td>\n",
       "      <td>Y</td>\n",
       "      <td>N</td>\n",
       "      <td>2412</td>\n",
       "      <td>2002</td>\n",
       "      <td>Northeast</td>\n",
       "      <td>83425.6500</td>\n",
       "      <td>Year</td>\n",
       "      <td>Y</td>\n",
       "      <td>Certified</td>\n",
       "    </tr>\n",
       "    <tr>\n",
       "      <th>2</th>\n",
       "      <td>EZYV03</td>\n",
       "      <td>Asia</td>\n",
       "      <td>Bachelor's</td>\n",
       "      <td>N</td>\n",
       "      <td>Y</td>\n",
       "      <td>44444</td>\n",
       "      <td>2008</td>\n",
       "      <td>West</td>\n",
       "      <td>122996.8600</td>\n",
       "      <td>Year</td>\n",
       "      <td>Y</td>\n",
       "      <td>Denied</td>\n",
       "    </tr>\n",
       "    <tr>\n",
       "      <th>3</th>\n",
       "      <td>EZYV04</td>\n",
       "      <td>Asia</td>\n",
       "      <td>Bachelor's</td>\n",
       "      <td>N</td>\n",
       "      <td>N</td>\n",
       "      <td>98</td>\n",
       "      <td>1897</td>\n",
       "      <td>West</td>\n",
       "      <td>83434.0300</td>\n",
       "      <td>Year</td>\n",
       "      <td>Y</td>\n",
       "      <td>Denied</td>\n",
       "    </tr>\n",
       "    <tr>\n",
       "      <th>4</th>\n",
       "      <td>EZYV05</td>\n",
       "      <td>Africa</td>\n",
       "      <td>Master's</td>\n",
       "      <td>Y</td>\n",
       "      <td>N</td>\n",
       "      <td>1082</td>\n",
       "      <td>2005</td>\n",
       "      <td>South</td>\n",
       "      <td>149907.3900</td>\n",
       "      <td>Year</td>\n",
       "      <td>Y</td>\n",
       "      <td>Certified</td>\n",
       "    </tr>\n",
       "    <tr>\n",
       "      <th>...</th>\n",
       "      <td>...</td>\n",
       "      <td>...</td>\n",
       "      <td>...</td>\n",
       "      <td>...</td>\n",
       "      <td>...</td>\n",
       "      <td>...</td>\n",
       "      <td>...</td>\n",
       "      <td>...</td>\n",
       "      <td>...</td>\n",
       "      <td>...</td>\n",
       "      <td>...</td>\n",
       "      <td>...</td>\n",
       "    </tr>\n",
       "    <tr>\n",
       "      <th>18914</th>\n",
       "      <td>EZYV18915</td>\n",
       "      <td>Europe</td>\n",
       "      <td>Master's</td>\n",
       "      <td>Y</td>\n",
       "      <td>N</td>\n",
       "      <td>4754</td>\n",
       "      <td>1996</td>\n",
       "      <td>West</td>\n",
       "      <td>40771.6800</td>\n",
       "      <td>Year</td>\n",
       "      <td>Y</td>\n",
       "      <td>Certified</td>\n",
       "    </tr>\n",
       "    <tr>\n",
       "      <th>18915</th>\n",
       "      <td>EZYV18916</td>\n",
       "      <td>Asia</td>\n",
       "      <td>Bachelor's</td>\n",
       "      <td>Y</td>\n",
       "      <td>N</td>\n",
       "      <td>4189</td>\n",
       "      <td>1998</td>\n",
       "      <td>Northeast</td>\n",
       "      <td>38689.8300</td>\n",
       "      <td>Year</td>\n",
       "      <td>Y</td>\n",
       "      <td>Certified</td>\n",
       "    </tr>\n",
       "    <tr>\n",
       "      <th>18916</th>\n",
       "      <td>EZYV18917</td>\n",
       "      <td>North America</td>\n",
       "      <td>Master's</td>\n",
       "      <td>N</td>\n",
       "      <td>N</td>\n",
       "      <td>5838</td>\n",
       "      <td>1990</td>\n",
       "      <td>South</td>\n",
       "      <td>43121.8300</td>\n",
       "      <td>Year</td>\n",
       "      <td>N</td>\n",
       "      <td>Certified</td>\n",
       "    </tr>\n",
       "    <tr>\n",
       "      <th>18917</th>\n",
       "      <td>EZYV18918</td>\n",
       "      <td>North America</td>\n",
       "      <td>Bachelor's</td>\n",
       "      <td>N</td>\n",
       "      <td>N</td>\n",
       "      <td>300</td>\n",
       "      <td>2009</td>\n",
       "      <td>South</td>\n",
       "      <td>49851.7200</td>\n",
       "      <td>Year</td>\n",
       "      <td>Y</td>\n",
       "      <td>Certified</td>\n",
       "    </tr>\n",
       "    <tr>\n",
       "      <th>18918</th>\n",
       "      <td>EZYV18919</td>\n",
       "      <td>Asia</td>\n",
       "      <td>Bachelor's</td>\n",
       "      <td>Y</td>\n",
       "      <td>N</td>\n",
       "      <td>1334</td>\n",
       "      <td>1898</td>\n",
       "      <td>Northeast</td>\n",
       "      <td>34442.9600</td>\n",
       "      <td>Year</td>\n",
       "      <td>Y</td>\n",
       "      <td>Certified</td>\n",
       "    </tr>\n",
       "  </tbody>\n",
       "</table>\n",
       "<p>18246 rows × 12 columns</p>\n",
       "</div>"
      ],
      "text/plain": [
       "         case_id      continent education_of_employee has_job_experience  \\\n",
       "0         EZYV01           Asia           High School                  N   \n",
       "1         EZYV02           Asia              Master's                  Y   \n",
       "2         EZYV03           Asia            Bachelor's                  N   \n",
       "3         EZYV04           Asia            Bachelor's                  N   \n",
       "4         EZYV05         Africa              Master's                  Y   \n",
       "...          ...            ...                   ...                ...   \n",
       "18914  EZYV18915         Europe              Master's                  Y   \n",
       "18915  EZYV18916           Asia            Bachelor's                  Y   \n",
       "18916  EZYV18917  North America              Master's                  N   \n",
       "18917  EZYV18918  North America            Bachelor's                  N   \n",
       "18918  EZYV18919           Asia            Bachelor's                  Y   \n",
       "\n",
       "      requires_job_training  no_of_employees  yr_of_estab  \\\n",
       "0                         N            14513         2007   \n",
       "1                         N             2412         2002   \n",
       "2                         Y            44444         2008   \n",
       "3                         N               98         1897   \n",
       "4                         N             1082         2005   \n",
       "...                     ...              ...          ...   \n",
       "18914                     N             4754         1996   \n",
       "18915                     N             4189         1998   \n",
       "18916                     N             5838         1990   \n",
       "18917                     N              300         2009   \n",
       "18918                     N             1334         1898   \n",
       "\n",
       "      region_of_employment  prevailing_wage unit_of_wage full_time_position  \\\n",
       "0                     West         592.2029         Hour                  Y   \n",
       "1                Northeast       83425.6500         Year                  Y   \n",
       "2                     West      122996.8600         Year                  Y   \n",
       "3                     West       83434.0300         Year                  Y   \n",
       "4                    South      149907.3900         Year                  Y   \n",
       "...                    ...              ...          ...                ...   \n",
       "18914                 West       40771.6800         Year                  Y   \n",
       "18915            Northeast       38689.8300         Year                  Y   \n",
       "18916                South       43121.8300         Year                  N   \n",
       "18917                South       49851.7200         Year                  Y   \n",
       "18918            Northeast       34442.9600         Year                  Y   \n",
       "\n",
       "      case_status  \n",
       "0          Denied  \n",
       "1       Certified  \n",
       "2          Denied  \n",
       "3          Denied  \n",
       "4       Certified  \n",
       "...           ...  \n",
       "18914   Certified  \n",
       "18915   Certified  \n",
       "18916   Certified  \n",
       "18917   Certified  \n",
       "18918   Certified  \n",
       "\n",
       "[18246 rows x 12 columns]"
      ]
     },
     "execution_count": 40,
     "metadata": {},
     "output_type": "execute_result"
    }
   ],
   "source": [
    "mean_data=df['prevailing_wage'].mean()\n",
    "standard=df['prevailing_wage'].std()\n",
    "lb=mean_data-2*standard\n",
    "ub=mean_data+2*standard\n",
    "con1=df['prevailing_wage']<ub\n",
    "con2=df['prevailing_wage']>lb\n",
    "con3=con1&con2\n",
    "df[con3]"
   ]
  },
  {
   "cell_type": "code",
   "execution_count": 41,
   "id": "b2adf676-a648-4a41-a730-ed662d7e556f",
   "metadata": {},
   "outputs": [
    {
     "data": {
      "text/html": [
       "<div>\n",
       "<style scoped>\n",
       "    .dataframe tbody tr th:only-of-type {\n",
       "        vertical-align: middle;\n",
       "    }\n",
       "\n",
       "    .dataframe tbody tr th {\n",
       "        vertical-align: top;\n",
       "    }\n",
       "\n",
       "    .dataframe thead th {\n",
       "        text-align: right;\n",
       "    }\n",
       "</style>\n",
       "<table border=\"1\" class=\"dataframe\">\n",
       "  <thead>\n",
       "    <tr style=\"text-align: right;\">\n",
       "      <th></th>\n",
       "      <th>case_id</th>\n",
       "      <th>continent</th>\n",
       "      <th>education_of_employee</th>\n",
       "      <th>has_job_experience</th>\n",
       "      <th>requires_job_training</th>\n",
       "      <th>no_of_employees</th>\n",
       "      <th>yr_of_estab</th>\n",
       "      <th>region_of_employment</th>\n",
       "      <th>prevailing_wage</th>\n",
       "      <th>unit_of_wage</th>\n",
       "      <th>full_time_position</th>\n",
       "      <th>case_status</th>\n",
       "    </tr>\n",
       "  </thead>\n",
       "  <tbody>\n",
       "    <tr>\n",
       "      <th>0</th>\n",
       "      <td>EZYV01</td>\n",
       "      <td>Asia</td>\n",
       "      <td>High School</td>\n",
       "      <td>N</td>\n",
       "      <td>N</td>\n",
       "      <td>14513</td>\n",
       "      <td>2007</td>\n",
       "      <td>West</td>\n",
       "      <td>592.2029</td>\n",
       "      <td>Hour</td>\n",
       "      <td>Y</td>\n",
       "      <td>Denied</td>\n",
       "    </tr>\n",
       "    <tr>\n",
       "      <th>1</th>\n",
       "      <td>EZYV02</td>\n",
       "      <td>Asia</td>\n",
       "      <td>Master's</td>\n",
       "      <td>Y</td>\n",
       "      <td>N</td>\n",
       "      <td>2412</td>\n",
       "      <td>2002</td>\n",
       "      <td>Northeast</td>\n",
       "      <td>83425.6500</td>\n",
       "      <td>Year</td>\n",
       "      <td>Y</td>\n",
       "      <td>Certified</td>\n",
       "    </tr>\n",
       "    <tr>\n",
       "      <th>2</th>\n",
       "      <td>EZYV03</td>\n",
       "      <td>Asia</td>\n",
       "      <td>Bachelor's</td>\n",
       "      <td>N</td>\n",
       "      <td>Y</td>\n",
       "      <td>44444</td>\n",
       "      <td>2008</td>\n",
       "      <td>West</td>\n",
       "      <td>122996.8600</td>\n",
       "      <td>Year</td>\n",
       "      <td>Y</td>\n",
       "      <td>Denied</td>\n",
       "    </tr>\n",
       "    <tr>\n",
       "      <th>3</th>\n",
       "      <td>EZYV04</td>\n",
       "      <td>Asia</td>\n",
       "      <td>Bachelor's</td>\n",
       "      <td>N</td>\n",
       "      <td>N</td>\n",
       "      <td>98</td>\n",
       "      <td>1897</td>\n",
       "      <td>West</td>\n",
       "      <td>83434.0300</td>\n",
       "      <td>Year</td>\n",
       "      <td>Y</td>\n",
       "      <td>Denied</td>\n",
       "    </tr>\n",
       "    <tr>\n",
       "      <th>4</th>\n",
       "      <td>EZYV05</td>\n",
       "      <td>Africa</td>\n",
       "      <td>Master's</td>\n",
       "      <td>Y</td>\n",
       "      <td>N</td>\n",
       "      <td>1082</td>\n",
       "      <td>2005</td>\n",
       "      <td>South</td>\n",
       "      <td>149907.3900</td>\n",
       "      <td>Year</td>\n",
       "      <td>Y</td>\n",
       "      <td>Certified</td>\n",
       "    </tr>\n",
       "    <tr>\n",
       "      <th>...</th>\n",
       "      <td>...</td>\n",
       "      <td>...</td>\n",
       "      <td>...</td>\n",
       "      <td>...</td>\n",
       "      <td>...</td>\n",
       "      <td>...</td>\n",
       "      <td>...</td>\n",
       "      <td>...</td>\n",
       "      <td>...</td>\n",
       "      <td>...</td>\n",
       "      <td>...</td>\n",
       "      <td>...</td>\n",
       "    </tr>\n",
       "    <tr>\n",
       "      <th>18914</th>\n",
       "      <td>EZYV18915</td>\n",
       "      <td>Europe</td>\n",
       "      <td>Master's</td>\n",
       "      <td>Y</td>\n",
       "      <td>N</td>\n",
       "      <td>4754</td>\n",
       "      <td>1996</td>\n",
       "      <td>West</td>\n",
       "      <td>40771.6800</td>\n",
       "      <td>Year</td>\n",
       "      <td>Y</td>\n",
       "      <td>Certified</td>\n",
       "    </tr>\n",
       "    <tr>\n",
       "      <th>18915</th>\n",
       "      <td>EZYV18916</td>\n",
       "      <td>Asia</td>\n",
       "      <td>Bachelor's</td>\n",
       "      <td>Y</td>\n",
       "      <td>N</td>\n",
       "      <td>4189</td>\n",
       "      <td>1998</td>\n",
       "      <td>Northeast</td>\n",
       "      <td>38689.8300</td>\n",
       "      <td>Year</td>\n",
       "      <td>Y</td>\n",
       "      <td>Certified</td>\n",
       "    </tr>\n",
       "    <tr>\n",
       "      <th>18916</th>\n",
       "      <td>EZYV18917</td>\n",
       "      <td>North America</td>\n",
       "      <td>Master's</td>\n",
       "      <td>N</td>\n",
       "      <td>N</td>\n",
       "      <td>5838</td>\n",
       "      <td>1990</td>\n",
       "      <td>South</td>\n",
       "      <td>43121.8300</td>\n",
       "      <td>Year</td>\n",
       "      <td>N</td>\n",
       "      <td>Certified</td>\n",
       "    </tr>\n",
       "    <tr>\n",
       "      <th>18917</th>\n",
       "      <td>EZYV18918</td>\n",
       "      <td>North America</td>\n",
       "      <td>Bachelor's</td>\n",
       "      <td>N</td>\n",
       "      <td>N</td>\n",
       "      <td>300</td>\n",
       "      <td>2009</td>\n",
       "      <td>South</td>\n",
       "      <td>49851.7200</td>\n",
       "      <td>Year</td>\n",
       "      <td>Y</td>\n",
       "      <td>Certified</td>\n",
       "    </tr>\n",
       "    <tr>\n",
       "      <th>18918</th>\n",
       "      <td>EZYV18919</td>\n",
       "      <td>Asia</td>\n",
       "      <td>Bachelor's</td>\n",
       "      <td>Y</td>\n",
       "      <td>N</td>\n",
       "      <td>1334</td>\n",
       "      <td>1898</td>\n",
       "      <td>Northeast</td>\n",
       "      <td>34442.9600</td>\n",
       "      <td>Year</td>\n",
       "      <td>Y</td>\n",
       "      <td>Certified</td>\n",
       "    </tr>\n",
       "  </tbody>\n",
       "</table>\n",
       "<p>18693 rows × 12 columns</p>\n",
       "</div>"
      ],
      "text/plain": [
       "         case_id      continent education_of_employee has_job_experience  \\\n",
       "0         EZYV01           Asia           High School                  N   \n",
       "1         EZYV02           Asia              Master's                  Y   \n",
       "2         EZYV03           Asia            Bachelor's                  N   \n",
       "3         EZYV04           Asia            Bachelor's                  N   \n",
       "4         EZYV05         Africa              Master's                  Y   \n",
       "...          ...            ...                   ...                ...   \n",
       "18914  EZYV18915         Europe              Master's                  Y   \n",
       "18915  EZYV18916           Asia            Bachelor's                  Y   \n",
       "18916  EZYV18917  North America              Master's                  N   \n",
       "18917  EZYV18918  North America            Bachelor's                  N   \n",
       "18918  EZYV18919           Asia            Bachelor's                  Y   \n",
       "\n",
       "      requires_job_training  no_of_employees  yr_of_estab  \\\n",
       "0                         N            14513         2007   \n",
       "1                         N             2412         2002   \n",
       "2                         Y            44444         2008   \n",
       "3                         N               98         1897   \n",
       "4                         N             1082         2005   \n",
       "...                     ...              ...          ...   \n",
       "18914                     N             4754         1996   \n",
       "18915                     N             4189         1998   \n",
       "18916                     N             5838         1990   \n",
       "18917                     N              300         2009   \n",
       "18918                     N             1334         1898   \n",
       "\n",
       "      region_of_employment  prevailing_wage unit_of_wage full_time_position  \\\n",
       "0                     West         592.2029         Hour                  Y   \n",
       "1                Northeast       83425.6500         Year                  Y   \n",
       "2                     West      122996.8600         Year                  Y   \n",
       "3                     West       83434.0300         Year                  Y   \n",
       "4                    South      149907.3900         Year                  Y   \n",
       "...                    ...              ...          ...                ...   \n",
       "18914                 West       40771.6800         Year                  Y   \n",
       "18915            Northeast       38689.8300         Year                  Y   \n",
       "18916                South       43121.8300         Year                  N   \n",
       "18917                South       49851.7200         Year                  Y   \n",
       "18918            Northeast       34442.9600         Year                  Y   \n",
       "\n",
       "      case_status  \n",
       "0          Denied  \n",
       "1       Certified  \n",
       "2          Denied  \n",
       "3          Denied  \n",
       "4       Certified  \n",
       "...           ...  \n",
       "18914   Certified  \n",
       "18915   Certified  \n",
       "18916   Certified  \n",
       "18917   Certified  \n",
       "18918   Certified  \n",
       "\n",
       "[18693 rows x 12 columns]"
      ]
     },
     "execution_count": 41,
     "metadata": {},
     "output_type": "execute_result"
    }
   ],
   "source": [
    "mean_data=df['prevailing_wage'].mean()\n",
    "standard=df['prevailing_wage'].std()\n",
    "lb=mean_data-3*standard\n",
    "ub=mean_data+3*standard\n",
    "con1=df['prevailing_wage']<ub\n",
    "con2=df['prevailing_wage']>lb\n",
    "con3=con1&con2\n",
    "df[con3]"
   ]
  },
  {
   "cell_type": "markdown",
   "id": "5abed9eb-e3f4-4120-aacf-2004ec3d34e1",
   "metadata": {},
   "source": [
    "**Discribe function**"
   ]
  },
  {
   "cell_type": "code",
   "execution_count": 42,
   "id": "309c7e33-4fd8-4779-b908-4aa05de686f1",
   "metadata": {},
   "outputs": [
    {
     "data": {
      "text/html": [
       "<div>\n",
       "<style scoped>\n",
       "    .dataframe tbody tr th:only-of-type {\n",
       "        vertical-align: middle;\n",
       "    }\n",
       "\n",
       "    .dataframe tbody tr th {\n",
       "        vertical-align: top;\n",
       "    }\n",
       "\n",
       "    .dataframe thead th {\n",
       "        text-align: right;\n",
       "    }\n",
       "</style>\n",
       "<table border=\"1\" class=\"dataframe\">\n",
       "  <thead>\n",
       "    <tr style=\"text-align: right;\">\n",
       "      <th></th>\n",
       "      <th>no_of_employees</th>\n",
       "      <th>yr_of_estab</th>\n",
       "      <th>prevailing_wage</th>\n",
       "    </tr>\n",
       "  </thead>\n",
       "  <tbody>\n",
       "    <tr>\n",
       "      <th>count</th>\n",
       "      <td>18919.000000</td>\n",
       "      <td>18919.000000</td>\n",
       "      <td>18919.000000</td>\n",
       "    </tr>\n",
       "    <tr>\n",
       "      <th>mean</th>\n",
       "      <td>5584.588932</td>\n",
       "      <td>1979.300862</td>\n",
       "      <td>74626.522283</td>\n",
       "    </tr>\n",
       "    <tr>\n",
       "      <th>std</th>\n",
       "      <td>22594.058105</td>\n",
       "      <td>42.548888</td>\n",
       "      <td>53019.973581</td>\n",
       "    </tr>\n",
       "    <tr>\n",
       "      <th>min</th>\n",
       "      <td>-26.000000</td>\n",
       "      <td>1800.000000</td>\n",
       "      <td>3.003100</td>\n",
       "    </tr>\n",
       "    <tr>\n",
       "      <th>25%</th>\n",
       "      <td>1011.000000</td>\n",
       "      <td>1976.000000</td>\n",
       "      <td>33958.790000</td>\n",
       "    </tr>\n",
       "    <tr>\n",
       "      <th>50%</th>\n",
       "      <td>2106.000000</td>\n",
       "      <td>1997.000000</td>\n",
       "      <td>70506.160000</td>\n",
       "    </tr>\n",
       "    <tr>\n",
       "      <th>75%</th>\n",
       "      <td>3488.000000</td>\n",
       "      <td>2005.000000</td>\n",
       "      <td>107857.435000</td>\n",
       "    </tr>\n",
       "    <tr>\n",
       "      <th>max</th>\n",
       "      <td>594472.000000</td>\n",
       "      <td>2016.000000</td>\n",
       "      <td>318446.050000</td>\n",
       "    </tr>\n",
       "  </tbody>\n",
       "</table>\n",
       "</div>"
      ],
      "text/plain": [
       "       no_of_employees   yr_of_estab  prevailing_wage\n",
       "count     18919.000000  18919.000000     18919.000000\n",
       "mean       5584.588932   1979.300862     74626.522283\n",
       "std       22594.058105     42.548888     53019.973581\n",
       "min         -26.000000   1800.000000         3.003100\n",
       "25%        1011.000000   1976.000000     33958.790000\n",
       "50%        2106.000000   1997.000000     70506.160000\n",
       "75%        3488.000000   2005.000000    107857.435000\n",
       "max      594472.000000   2016.000000    318446.050000"
      ]
     },
     "execution_count": 42,
     "metadata": {},
     "output_type": "execute_result"
    }
   ],
   "source": [
    "df.describe()"
   ]
  },
  {
   "cell_type": "markdown",
   "id": "57624bd1-9dff-4607-92b4-9e731736ed2a",
   "metadata": {},
   "source": [
    "**Histogram**"
   ]
  },
  {
   "cell_type": "markdown",
   "id": "fecf81dd-9f3f-4f9e-8c6b-43ce4cd70b93",
   "metadata": {},
   "source": [
    "- By applying empherical rule we aboserved  slight  deiastion in tho count of data\n",
    "\n",
    "- Also mean is slightly deviated from median\n",
    "\n",
    "- this gives an indication tha data does not follows normal distribution\n",
    "\n",
    "- to understand more crearly will visualize the data\n",
    "\n",
    "- its is numerical data,so the plot name is : **Histogram**\n",
    "\n",
    "- Histogram is a graph between class intervals and class interval frequency\n",
    "\n",
    "- the plot is abialble in **matplotlib**\n",
    "\n",
    "- the method name is **hist**"
   ]
  },
  {
   "cell_type": "code",
   "execution_count": 43,
   "id": "297c49ef-b6ec-4265-bc25-e64f48aeedf3",
   "metadata": {},
   "outputs": [
    {
     "data": {
      "text/plain": [
       "array([3.00310000e+00, 1.59251554e+04, 3.18473078e+04, 4.77694601e+04,\n",
       "       6.36916125e+04, 7.96137648e+04, 9.55359172e+04, 1.11458070e+05,\n",
       "       1.27380222e+05, 1.43302374e+05, 1.59224527e+05, 1.75146679e+05,\n",
       "       1.91068831e+05, 2.06990984e+05, 2.22913136e+05, 2.38835288e+05,\n",
       "       2.54757441e+05, 2.70679593e+05, 2.86601745e+05, 3.02523898e+05,\n",
       "       3.18446050e+05])"
      ]
     },
     "execution_count": 43,
     "metadata": {},
     "output_type": "execute_result"
    },
    {
     "data": {
      "image/png": "[encoded data removed]",
      "text/plain": [
       "<Figure size 640x480 with 1 Axes>"
      ]
     },
     "metadata": {},
     "output_type": "display_data"
    }
   ],
   "source": [
    "wage_data=df['prevailing_wage']\n",
    "bins,count,x=plt.hist(wage_data,bins = 20)\n",
    "x\n",
    "bins\n",
    "count\n"
   ]
  },
  {
   "cell_type": "code",
   "execution_count": 44,
   "id": "1fc185a0-af23-40df-a77a-020bdb914fed",
   "metadata": {},
   "outputs": [],
   "source": [
    "## step1- read the prevailaling wage\n",
    "## step2- plt.hist()"
   ]
  },
  {
   "cell_type": "code",
   "execution_count": 45,
   "id": "eba526ea-21cd-48f9-8099-be040b0ad0eb",
   "metadata": {},
   "outputs": [
    {
     "data": {
      "text/plain": [
       "array([2858., 1616., 1985., 2087., 2116., 2077., 1855., 1540., 1080.,\n",
       "        675.,  305.,  154.,  154.,  125.,   95.,   82.,   58.,   38.,\n",
       "         10.,    9.])"
      ]
     },
     "execution_count": 45,
     "metadata": {},
     "output_type": "execute_result"
    }
   ],
   "source": [
    "bins"
   ]
  },
  {
   "cell_type": "code",
   "execution_count": 46,
   "id": "dac96f79-c65a-4d9d-a7d2-117b0dda8be8",
   "metadata": {},
   "outputs": [
    {
     "data": {
      "text/plain": [
       "array([3.00310000e+00, 1.59251554e+04, 3.18473078e+04, 4.77694601e+04,\n",
       "       6.36916125e+04, 7.96137648e+04, 9.55359172e+04, 1.11458070e+05,\n",
       "       1.27380222e+05, 1.43302374e+05, 1.59224527e+05, 1.75146679e+05,\n",
       "       1.91068831e+05, 2.06990984e+05, 2.22913136e+05, 2.38835288e+05,\n",
       "       2.54757441e+05, 2.70679593e+05, 2.86601745e+05, 3.02523898e+05,\n",
       "       3.18446050e+05])"
      ]
     },
     "execution_count": 46,
     "metadata": {},
     "output_type": "execute_result"
    }
   ],
   "source": [
    "count"
   ]
  },
  {
   "cell_type": "markdown",
   "id": "c9c85677-5ed8-43e0-b9d1-1f85724ad08f",
   "metadata": {},
   "source": [
    "- histogram will return 3 values \n",
    "\n",
    "   - 1st is interval count\n",
    "\n",
    "      - we have 20 interval , so we have 20 interval counts\n",
    "\n",
    "- Bins\n",
    "\n",
    "       - Bins means no  of interval\n",
    "\n",
    "        - we have 20 intervals so we need 21 values\n",
    "\n",
    "- will display how many interval are avialable\n",
    "\n",
    "- For example int the bins array the firt two forms one interval\n",
    "\n",
    "- 3.003 to 15925.1554 the count is 2858\n",
    "\n",
    "- 2858 observation are avilable between 3.003 to 15925.1554\n",
    "\n",
    "- similarly 1616 obseervation are avilable (1.59251554,3.18473078)"
   ]
  },
  {
   "cell_type": "code",
   "execution_count": 47,
   "id": "156589dd-ea89-42fe-b322-7aa2d56378d5",
   "metadata": {},
   "outputs": [
    {
     "data": {
      "text/plain": [
       "15925.1554"
      ]
     },
     "execution_count": 47,
     "metadata": {},
     "output_type": "execute_result"
    }
   ],
   "source": [
    "1.59251554e+04"
   ]
  },
  {
   "cell_type": "code",
   "execution_count": 48,
   "id": "ed7df678-bd7c-4ba7-b3ec-0a5841f7bbb7",
   "metadata": {},
   "outputs": [
    {
     "name": "stdout",
     "output_type": "stream",
     "text": [
      "1616\n"
     ]
    }
   ],
   "source": [
    "\n",
    "lb=1.59251554e+04\n",
    "ub=3.18473078e+04\n",
    "con1=df['prevailing_wage']<ub\n",
    "con2=df['prevailing_wage']>lb\n",
    "con3=con1&con2\n",
    "print(len(df[con3]))"
   ]
  },
  {
   "cell_type": "code",
   "execution_count": 49,
   "id": "edf9b13d-e14c-4240-9d23-f553c330d16d",
   "metadata": {},
   "outputs": [
    {
     "name": "stdout",
     "output_type": "stream",
     "text": [
      "1985\n"
     ]
    }
   ],
   "source": [
    "lb=3.18473078e+04#1.59251554e+04\n",
    "ub=4.77694601e+04\n",
    "con1=df['prevailing_wage']<ub\n",
    "con2=df['prevailing_wage']>lb\n",
    "con3=con1&con2\n",
    "print(len(df[con3]))"
   ]
  },
  {
   "cell_type": "code",
   "execution_count": 50,
   "id": "f2a94c03-9cdc-4a69-9331-a577c7e6584c",
   "metadata": {},
   "outputs": [
    {
     "data": {
      "text/plain": [
       "array([3.00310000e+00, 1.59251554e+04, 3.18473078e+04, 4.77694601e+04,\n",
       "       6.36916125e+04, 7.96137648e+04, 9.55359172e+04, 1.11458070e+05,\n",
       "       1.27380222e+05, 1.43302374e+05, 1.59224527e+05, 1.75146679e+05,\n",
       "       1.91068831e+05, 2.06990984e+05, 2.22913136e+05, 2.38835288e+05,\n",
       "       2.54757441e+05, 2.70679593e+05, 2.86601745e+05, 3.02523898e+05,\n",
       "       3.18446050e+05])"
      ]
     },
     "execution_count": 50,
     "metadata": {},
     "output_type": "execute_result"
    }
   ],
   "source": [
    "count\n"
   ]
  },
  {
   "cell_type": "code",
   "execution_count": 51,
   "id": "25068c0c-2c4a-4d58-8d8b-451e00c91074",
   "metadata": {},
   "outputs": [
    {
     "data": {
      "text/plain": [
       "array([2858., 1616., 1985., 2087., 2116., 2077., 1855., 1540., 1080.,\n",
       "        675.,  305.,  154.,  154.,  125.,   95.,   82.,   58.,   38.,\n",
       "         10.,    9.])"
      ]
     },
     "execution_count": 51,
     "metadata": {},
     "output_type": "execute_result"
    }
   ],
   "source": [
    "bins"
   ]
  },
  {
   "cell_type": "code",
   "execution_count": 52,
   "id": "a51a1fc0-c5fb-4447-baa6-af70fef174c3",
   "metadata": {},
   "outputs": [
    {
     "data": {
      "text/plain": [
       "['2858.0-1616.0',\n",
       " '1616.0-1985.0',\n",
       " '1985.0-2087.0',\n",
       " '2087.0-2116.0',\n",
       " '2116.0-2077.0',\n",
       " '2077.0-1855.0',\n",
       " '1855.0-1540.0',\n",
       " '1540.0-1080.0',\n",
       " '1080.0-675.0',\n",
       " '675.0-305.0',\n",
       " '305.0-154.0',\n",
       " '154.0-154.0',\n",
       " '154.0-125.0',\n",
       " '125.0-95.0',\n",
       " '95.0-82.0',\n",
       " '82.0-58.0',\n",
       " '58.0-38.0',\n",
       " '38.0-10.0',\n",
       " '10.0-9.0']"
      ]
     },
     "execution_count": 52,
     "metadata": {},
     "output_type": "execute_result"
    }
   ],
   "source": [
    "list1=[]\n",
    "for i in range(len(bins)):\n",
    "    if i!=19:\n",
    "        x=bins[i]\n",
    "        y=bins[i+1]\n",
    "        z=f'{round(x,2)}-{round(y,2)}'\n",
    "        list1.append(z)\n",
    "    \n",
    "    else:\n",
    "        break\n",
    "list1"
   ]
  },
  {
   "cell_type": "code",
   "execution_count": 53,
   "id": "3d6f6f9a-ec33-422f-b417-26d1a81bd111",
   "metadata": {},
   "outputs": [
    {
     "data": {
      "text/html": [
       "<div>\n",
       "<style scoped>\n",
       "    .dataframe tbody tr th:only-of-type {\n",
       "        vertical-align: middle;\n",
       "    }\n",
       "\n",
       "    .dataframe tbody tr th {\n",
       "        vertical-align: top;\n",
       "    }\n",
       "\n",
       "    .dataframe thead th {\n",
       "        text-align: right;\n",
       "    }\n",
       "</style>\n",
       "<table border=\"1\" class=\"dataframe\">\n",
       "  <thead>\n",
       "    <tr style=\"text-align: right;\">\n",
       "      <th></th>\n",
       "      <th>range</th>\n",
       "      <th>Count</th>\n",
       "    </tr>\n",
       "  </thead>\n",
       "  <tbody>\n",
       "    <tr>\n",
       "      <th>0</th>\n",
       "      <td>2858.0-1616.0</td>\n",
       "      <td>3.003100</td>\n",
       "    </tr>\n",
       "    <tr>\n",
       "      <th>1</th>\n",
       "      <td>1616.0-1985.0</td>\n",
       "      <td>15925.155445</td>\n",
       "    </tr>\n",
       "    <tr>\n",
       "      <th>2</th>\n",
       "      <td>1985.0-2087.0</td>\n",
       "      <td>31847.307790</td>\n",
       "    </tr>\n",
       "    <tr>\n",
       "      <th>3</th>\n",
       "      <td>2087.0-2116.0</td>\n",
       "      <td>47769.460135</td>\n",
       "    </tr>\n",
       "    <tr>\n",
       "      <th>4</th>\n",
       "      <td>2116.0-2077.0</td>\n",
       "      <td>63691.612480</td>\n",
       "    </tr>\n",
       "    <tr>\n",
       "      <th>5</th>\n",
       "      <td>2077.0-1855.0</td>\n",
       "      <td>79613.764825</td>\n",
       "    </tr>\n",
       "    <tr>\n",
       "      <th>6</th>\n",
       "      <td>1855.0-1540.0</td>\n",
       "      <td>95535.917170</td>\n",
       "    </tr>\n",
       "    <tr>\n",
       "      <th>7</th>\n",
       "      <td>1540.0-1080.0</td>\n",
       "      <td>111458.069515</td>\n",
       "    </tr>\n",
       "    <tr>\n",
       "      <th>8</th>\n",
       "      <td>1080.0-675.0</td>\n",
       "      <td>127380.221860</td>\n",
       "    </tr>\n",
       "    <tr>\n",
       "      <th>9</th>\n",
       "      <td>675.0-305.0</td>\n",
       "      <td>143302.374205</td>\n",
       "    </tr>\n",
       "    <tr>\n",
       "      <th>10</th>\n",
       "      <td>305.0-154.0</td>\n",
       "      <td>159224.526550</td>\n",
       "    </tr>\n",
       "    <tr>\n",
       "      <th>11</th>\n",
       "      <td>154.0-154.0</td>\n",
       "      <td>175146.678895</td>\n",
       "    </tr>\n",
       "    <tr>\n",
       "      <th>12</th>\n",
       "      <td>154.0-125.0</td>\n",
       "      <td>191068.831240</td>\n",
       "    </tr>\n",
       "    <tr>\n",
       "      <th>13</th>\n",
       "      <td>125.0-95.0</td>\n",
       "      <td>206990.983585</td>\n",
       "    </tr>\n",
       "    <tr>\n",
       "      <th>14</th>\n",
       "      <td>95.0-82.0</td>\n",
       "      <td>222913.135930</td>\n",
       "    </tr>\n",
       "    <tr>\n",
       "      <th>15</th>\n",
       "      <td>82.0-58.0</td>\n",
       "      <td>238835.288275</td>\n",
       "    </tr>\n",
       "    <tr>\n",
       "      <th>16</th>\n",
       "      <td>58.0-38.0</td>\n",
       "      <td>254757.440620</td>\n",
       "    </tr>\n",
       "    <tr>\n",
       "      <th>17</th>\n",
       "      <td>38.0-10.0</td>\n",
       "      <td>270679.592965</td>\n",
       "    </tr>\n",
       "    <tr>\n",
       "      <th>18</th>\n",
       "      <td>10.0-9.0</td>\n",
       "      <td>286601.745310</td>\n",
       "    </tr>\n",
       "  </tbody>\n",
       "</table>\n",
       "</div>"
      ],
      "text/plain": [
       "            range          Count\n",
       "0   2858.0-1616.0       3.003100\n",
       "1   1616.0-1985.0   15925.155445\n",
       "2   1985.0-2087.0   31847.307790\n",
       "3   2087.0-2116.0   47769.460135\n",
       "4   2116.0-2077.0   63691.612480\n",
       "5   2077.0-1855.0   79613.764825\n",
       "6   1855.0-1540.0   95535.917170\n",
       "7   1540.0-1080.0  111458.069515\n",
       "8    1080.0-675.0  127380.221860\n",
       "9     675.0-305.0  143302.374205\n",
       "10    305.0-154.0  159224.526550\n",
       "11    154.0-154.0  175146.678895\n",
       "12    154.0-125.0  191068.831240\n",
       "13     125.0-95.0  206990.983585\n",
       "14      95.0-82.0  222913.135930\n",
       "15      82.0-58.0  238835.288275\n",
       "16      58.0-38.0  254757.440620\n",
       "17      38.0-10.0  270679.592965\n",
       "18       10.0-9.0  286601.745310"
      ]
     },
     "execution_count": 53,
     "metadata": {},
     "output_type": "execute_result"
    }
   ],
   "source": [
    "x=pd.DataFrame(zip(list1,count),columns=['range','Count'])\n",
    "x"
   ]
  },
  {
   "cell_type": "code",
   "execution_count": 54,
   "id": "e1b40a78-5181-425b-b6f7-5b068670923d",
   "metadata": {},
   "outputs": [
    {
     "data": {
      "image/png": "[encoded data removed]",
      "text/plain": [
       "<Figure size 1400x800 with 1 Axes>"
      ]
     },
     "metadata": {},
     "output_type": "display_data"
    }
   ],
   "source": [
    "plt.figure(figsize=(14,8))\n",
    "plt.bar('range','Count',data=x)\n",
    "plt.title('histgram_range')\n",
    "\n",
    "plt.xlabel('range')\n",
    "plt.ylabel('Count')\n",
    "plt.show()\n"
   ]
  },
  {
   "cell_type": "code",
   "execution_count": null,
   "id": "3b37dd2f-4530-469e-8057-2688802c352e",
   "metadata": {},
   "outputs": [],
   "source": []
  },
  {
   "cell_type": "code",
   "execution_count": null,
   "id": "5efa24cc-3de9-4504-bff4-13e70d40c94c",
   "metadata": {},
   "outputs": [],
   "source": []
  },
  {
   "cell_type": "code",
   "execution_count": null,
   "id": "58d84b04-031e-4578-87eb-56754e971980",
   "metadata": {},
   "outputs": [],
   "source": []
  },
  {
   "cell_type": "code",
   "execution_count": null,
   "id": "5c8b3143-145b-4f07-9cf0-4744c1a06589",
   "metadata": {},
   "outputs": [],
   "source": []
  }
 ],
 "metadata": {
  "kernelspec": {
   "display_name": "Python 3 (ipykernel)",
   "language": "python",
   "name": "python3"
  },
  "language_info": {
   "codemirror_mode": {
    "name": "ipython",
    "version": 3
   },
   "file_extension": ".py",
   "mimetype": "text/x-python",
   "name": "python",
   "nbconvert_exporter": "python",
   "pygments_lexer": "ipython3",
   "version": "3.11.7"
  }
 },
 "nbformat": 4,
 "nbformat_minor": 5
}
